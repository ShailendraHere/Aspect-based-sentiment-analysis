{
 "cells": [
  {
   "cell_type": "code",
   "execution_count": 1,
   "metadata": {},
   "outputs": [],
   "source": [
    "import requests\n",
    "from bs4 import BeautifulSoup\n",
    "from selenium import webdriver"
   ]
  },
  {
   "cell_type": "code",
   "execution_count": 2,
   "metadata": {
    "scrolled": false
   },
   "outputs": [],
   "source": [
    "#pip install webdriver-manager\n",
    "#from webdriver_manager.chrome import ChromeDriverManager\n",
    "\n",
    "#driver = webdriver.Chrome(ChromeDriverManager().install())"
   ]
  },
  {
   "cell_type": "code",
   "execution_count": 3,
   "metadata": {
    "scrolled": true
   },
   "outputs": [],
   "source": [
    "import re\n",
    "\n",
    "def cleanhtml(raw_html):\n",
    "    cleanr = re.compile('<.*?>')\n",
    "    cleantext = re.sub(cleanr, '', raw_html)\n",
    "    cleantext=  re.sub('^\\nRated\\xa0\\n +', '', cleantext)\n",
    "    cleantext=  re.sub('\\n+', ' ', cleantext)\n",
    "    cleantext=  re.sub('\\.+', '.', cleantext)\n",
    "    #cleantext=  re.sub('[^A-Za-z0-9 ]+', '', cleantext)\n",
    "    \n",
    "    \n",
    "    return cleantext\n",
    "\n",
    "\n",
    "import string\n",
    "def get_comment(soup):\n",
    "    z4=[]\n",
    "    x=soup.find_all(\"div\",{\"class\": [\"rev-text mbot0\",\"rev-text mbot0 hidden\"]})\n",
    "    for i in range(0,len(x)):\n",
    "        #print('comment ',i)\n",
    "        z=cleanhtml(x[i].get_text()).split('.')\n",
    "        #print(z)\n",
    "        try:\n",
    "            rating=x[i].find(\"div\").attrs['aria-label']\n",
    "        except KeyError:\n",
    "            break;\n",
    "        \n",
    "        #print(rating) \n",
    "        z4.append((rating,z))\n",
    "    return(z4)\n",
    "            \n",
    "\n",
    "\n",
    "        \n",
    "        \n",
    "\n"
   ]
  },
  {
   "cell_type": "code",
   "execution_count": 4,
   "metadata": {},
   "outputs": [
    {
     "name": "stdout",
     "output_type": "stream",
     "text": [
      "hi\n",
      "key not found\n"
     ]
    }
   ],
   "source": [
    "d={1:'hi'}\n",
    "for i in range(1,3):\n",
    "    try:\n",
    "        print(d[i])\n",
    "    except KeyError:\n",
    "        break;\n",
    "print(\"key not found\")"
   ]
  },
  {
   "cell_type": "code",
   "execution_count": 5,
   "metadata": {},
   "outputs": [],
   "source": [
    "from selenium import webdriver\n",
    "from selenium.webdriver.support.ui import WebDriverWait\n",
    "from selenium.webdriver.common.by import By\n",
    "from selenium.webdriver.support import expected_conditions as EC\n",
    "import pandas as pd\n",
    "from selenium.common.exceptions import NoSuchElementException\n",
    "import time\n",
    "\n",
    "#list_of_restaurents=['patang','we-idliwale'] #'1bhk-superbar','Effingut-Brewerkz','highland']\n",
    "#link=\"https://www.zomato.com/pune/restaurent-baner/reviews\"\n",
    "link=\"https://www.zomato.com/pune/restaurent-wakad/reviews\"\n",
    "\n",
    "def click_loadmore(l,chrome_options=None):\n",
    "    if(chrome_options != None):\n",
    "        driver = webdriver.Chrome(options=chrome_options,executable_path='C:\\\\Users\\\\SHAILENDRA\\\\.wdm\\\\drivers\\\\chromedriver\\\\78.0.3904.70\\\\win32\\\\chromedriver.exe')\n",
    "    else:\n",
    "        driver = webdriver.Chrome(executable_path='C:\\\\Users\\\\SHAILENDRA\\\\.wdm\\\\drivers\\\\chromedriver\\\\78.0.3904.70\\\\win32\\\\chromedriver.exe')\n",
    "\n",
    "    driver.get(link.replace('restaurent',l))\n",
    "    time.sleep(100)\n",
    "    element = driver.find_element_by_xpath(\"//div[@class='review-sorting text-tabs selectors ui secondary pointing menu mt0']\")\n",
    "    element=element.find_elements_by_xpath(\"//a[@class='item default-section-title everyone empty']\")\n",
    "        # CLICKING ON ALL REVIEWS WOOHOO\n",
    "    time.sleep(100)\n",
    "    element[0].click()\n",
    "    print(element[0].text)\n",
    "    time.sleep(15)\n",
    "\n",
    "\n",
    "    I=0\n",
    "    while True:\n",
    "        try:\n",
    "            loadMoreButton = driver.find_element_by_xpath('//div[@class=\"load-more bold ttupper tac cursor-pointer fontsize2\"]')\n",
    "            time.sleep(10)\n",
    "            loadMoreButton.click()\n",
    "            time.sleep(15)\n",
    "            I+=1\n",
    "        except Exception as e:\n",
    "            print(e)\n",
    "            break\n",
    "        #print(I,'\\n')\n",
    "    print(\"Complete\")\n",
    "\n",
    "    all_df=[]\n",
    "    content1=driver.page_source\n",
    "    soup=BeautifulSoup(content1,\"html.parser\")\n",
    "    rating=[]\n",
    "    comment=[]\n",
    "    res_name=[]    \n",
    "    temp=get_comment(soup)\n",
    "    #print(temp)\n",
    "    for j,i in temp:\n",
    "        #print(i)\n",
    "        a=i[0].strip()\n",
    "        if(len(a)!=0):\n",
    "            #print(a)\n",
    "            comment.append( \".\".join(i))\n",
    "            rating.append(j)\n",
    "            res_name.append(l)\n",
    "        #final=pd.DataFrame([res_name,rating,comment],columns=['res_name','rating','comment']).T\n",
    "        #all_df.append\n",
    "    driver.quit()\n",
    "    time.sleep(15)\n",
    "    return([res_name,rating,comment])\n",
    "\n"
   ]
  },
  {
   "cell_type": "code",
   "execution_count": null,
   "metadata": {
    "scrolled": false
   },
   "outputs": [
    {
     "name": "stdout",
     "output_type": "stream",
     "text": [
      "All Reviews \n",
      "1292\n"
     ]
    }
   ],
   "source": [
    "o=1\n",
    "import requests\n",
    "from bs4 import BeautifulSoup\n",
    "from selenium import webdriver\n",
    "list_of_restaurents=['the-barkhana']#'the-break-room','thikana','highland', # names of the restaurents in baner\n",
    "PROXY = ['182.74.243.39:3128'] # IP:PORT or HOST:PORT this list needs to be updated from https://free-proxy-list.net/\n",
    "p={}\n",
    "for i in range(0,len(PROXY)):\n",
    "    p[i]=PROXY[i]\n",
    "p\n",
    "for i in range(0,len(list_of_restaurents)):\n",
    "    chrome_options = webdriver.ChromeOptions()\n",
    "    chrome_options.add_argument('--proxy-server=%s' % p[i])\n",
    "    if(i==0):\n",
    "        z=click_loadmore(list_of_restaurents[i],chrome_options)\n",
    "    else:\n",
    "        z=click_loadmore(list_of_restaurents[i],chrome_options)\n",
    "\n",
    "    df=pd.DataFrame(z).T\n",
    "    df.columns=['res_name','rating','comment']\n",
    "    df.to_csv(\"{}{}.csv\".format('C:\\\\Users\\\\SHAILENDRA\\\\',list_of_restaurents[i] ),index=False)\n",
    "        \n"
   ]
  },
  {
   "cell_type": "code",
   "execution_count": null,
   "metadata": {},
   "outputs": [],
   "source": [
    "df"
   ]
  },
  {
   "cell_type": "code",
   "execution_count": null,
   "metadata": {},
   "outputs": [],
   "source": []
  },
  {
   "cell_type": "code",
   "execution_count": null,
   "metadata": {},
   "outputs": [],
   "source": []
  }
 ],
 "metadata": {
  "kernelspec": {
   "display_name": "Python 3",
   "language": "python",
   "name": "python3"
  },
  "language_info": {
   "codemirror_mode": {
    "name": "ipython",
    "version": 3
   },
   "file_extension": ".py",
   "mimetype": "text/x-python",
   "name": "python",
   "nbconvert_exporter": "python",
   "pygments_lexer": "ipython3",
   "version": "3.6.9"
  }
 },
 "nbformat": 4,
 "nbformat_minor": 2
}
